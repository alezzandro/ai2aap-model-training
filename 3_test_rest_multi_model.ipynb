{
 "cells": [
  {
   "cell_type": "markdown",
   "id": "f73046ff",
   "metadata": {},
   "source": [
    "# REST Inference"
   ]
  },
  {
   "cell_type": "markdown",
   "id": "2e7eb303-2ded-41b5-91db-8b8a8860d2ac",
   "metadata": {},
   "source": [
    "## Setup\n",
    "\n",
    "Verify that following variable settings match your deployed model's resource name and rest URL. The following code assumes that the kube service is in the same namespace, but you could refer to it in full with the namespace."
   ]
  },
  {
   "cell_type": "code",
   "execution_count": null,
   "id": "7e54617f-0c9e-4220-b66c-93885d847050",
   "metadata": {
    "tags": []
   },
   "outputs": [],
   "source": [
    "# Upgrade pip and install all the required libraries\n",
    "! pip install --upgrade pip\n",
    "! pip install torch==2.3.0+cpu accelerate -f https://download.pytorch.org/whl/torch_stable.html\n",
    "! pip install tensorflow transformers numpy"
   ]
  },
  {
   "cell_type": "markdown",
   "id": "0f9edc5d",
   "metadata": {},
   "source": [
    "After that let's define some variables useful for deploying our ml model:\n"
   ]
  },
  {
   "cell_type": "code",
   "execution_count": null,
   "id": "1d17b252-7827-4cae-adb0-f98c9d80bcd7",
   "metadata": {
    "tags": []
   },
   "outputs": [],
   "source": [
    "deployed_model_name = \"itsmticketsovir\"\n",
    "rest_url = \"http://modelmesh-serving:8008\"\n",
    "infer_url = f\"{rest_url}/v2/models/{deployed_model_name}/infer\""
   ]
  },
  {
   "cell_type": "markdown",
   "id": "c5835f05-7fe2-4d51-bed5-3aa9f2b380fe",
   "metadata": {},
   "source": [
    "## Request Function\n",
    "\n",
    "Create a function and all the stuff needed to serialize data and submit the REST request:"
   ]
  },
  {
   "cell_type": "code",
   "execution_count": null,
   "id": "67c1d001-ff99-414a-95d4-5729d5849298",
   "metadata": {
    "tags": []
   },
   "outputs": [],
   "source": [
    "import requests\n",
    "\n",
    "from transformers import DistilBertTokenizer\n",
    "\n",
    "import tensorflow as tf\n",
    "tf.experimental.numpy.experimental_enable_numpy_behavior()\n",
    "\n",
    "import numpy as np\n",
    "tokenizer = DistilBertTokenizer.from_pretrained('alezzandro/itsm_tickets')\n",
    "\n",
    "\n",
    "def rest_request(text):\n",
    "    encoded_input = tokenizer(text, return_tensors='tf')\n",
    "    json_data = {\n",
    "        \"inputs\": [\n",
    "            {\n",
    "                \"name\": \"input_ids\",\n",
    "                \"shape\": encoded_input['input_ids'].shape.as_list(),\n",
    "                \"datatype\": \"INT64\",\n",
    "                \"data\": encoded_input['input_ids'].tolist()\n",
    "            },\n",
    "            {\n",
    "                \"name\": \"attention_mask\",\n",
    "                \"shape\": encoded_input['attention_mask'].shape.as_list(),\n",
    "                \"datatype\": \"INT64\",\n",
    "                \"data\": encoded_input['attention_mask'].tolist()\n",
    "            }\n",
    "        ]\n",
    "    }\n",
    "\n",
    "    response = requests.post(infer_url, json=json_data)\n",
    "    response_dict = response.json()\n",
    "    return response_dict['outputs'][0]['data']"
   ]
  },
  {
   "cell_type": "markdown",
   "id": "91c76fd9",
   "metadata": {},
   "source": [
    "Now we can test the deployed model:"
   ]
  },
  {
   "cell_type": "code",
   "execution_count": null,
   "id": "f0a68b67-b109-4a2f-b097-092f4a4d25ce",
   "metadata": {
    "tags": []
   },
   "outputs": [],
   "source": [
    "text = \"Web server logs indicate multiple 404 Not Found errors for resources that should exist.  File paths appear correct in the codebase. Need to investigate potential caching issues, configuration mismatches, or incorrect deployments.\"\n",
    "prediction = rest_request(text)\n",
    "prediction"
   ]
  },
  {
   "cell_type": "markdown",
   "id": "c187c691",
   "metadata": {},
   "source": [
    "Finally we can map the prediction with the respective Category:"
   ]
  },
  {
   "cell_type": "code",
   "execution_count": null,
   "id": "4de512cf-6dab-4801-93ea-6cfed8b2fb5d",
   "metadata": {
    "tags": []
   },
   "outputs": [],
   "source": [
    "def get_max_value_position(arr):\n",
    "    max_value = max(arr)\n",
    "    max_index = arr.index(max_value)\n",
    "    return max_index\n",
    "\n",
    "index = get_max_value_position(prediction)\n",
    "\n",
    "id2label = {0: \"WebServer\", 1: \"Database\", 2: \"Filesystem\"}\n",
    "\n",
    "print(\"The ticket type is: \"+id2label[index])\n"
   ]
  }
 ],
 "metadata": {
  "kernelspec": {
   "display_name": "Python 3.9",
   "language": "python",
   "name": "python3"
  },
  "language_info": {
   "codemirror_mode": {
    "name": "ipython",
    "version": 3
   },
   "file_extension": ".py",
   "mimetype": "text/x-python",
   "name": "python",
   "nbconvert_exporter": "python",
   "pygments_lexer": "ipython3",
   "version": "3.9.16"
  }
 },
 "nbformat": 4,
 "nbformat_minor": 5
}
